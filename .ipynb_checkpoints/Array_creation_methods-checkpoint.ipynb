{
 "cells": [
  {
   "cell_type": "code",
   "execution_count": 1,
   "id": "b4fd5958",
   "metadata": {},
   "outputs": [],
   "source": [
    "import numpy as np"
   ]
  },
  {
   "cell_type": "markdown",
   "id": "fb184cfa",
   "metadata": {},
   "source": [
    "# Normal array"
   ]
  },
  {
   "cell_type": "code",
   "execution_count": 2,
   "id": "31f4390e",
   "metadata": {},
   "outputs": [
    {
     "data": {
      "text/plain": [
       "array([1, 2, 3, 4])"
      ]
     },
     "execution_count": 2,
     "metadata": {},
     "output_type": "execute_result"
    }
   ],
   "source": [
    "arr1=np.array([1,2,3,4])  \n",
    "arr1                            #creating a normal array with numpy"
   ]
  },
  {
   "cell_type": "code",
   "execution_count": 3,
   "id": "9d446657",
   "metadata": {},
   "outputs": [
    {
     "data": {
      "text/plain": [
       "array([ 5, 10, 15, 20])"
      ]
     },
     "execution_count": 3,
     "metadata": {},
     "output_type": "execute_result"
    }
   ],
   "source": [
    "tuple1=(5,10,15,20)\n",
    "arr2=np.array(tuple1)\n",
    "arr2                            #converting a tuple into array"
   ]
  },
  {
   "cell_type": "markdown",
   "id": "c34ba4c6",
   "metadata": {},
   "source": [
    "# Numpy.zeros()         array with elments as zero"
   ]
  },
  {
   "cell_type": "code",
   "execution_count": 4,
   "id": "b9bc976d",
   "metadata": {},
   "outputs": [
    {
     "data": {
      "text/plain": [
       "array([0., 0., 0., 0., 0.])"
      ]
     },
     "execution_count": 4,
     "metadata": {},
     "output_type": "execute_result"
    }
   ],
   "source": [
    "arr3=np.zeros(5)\n",
    "arr3                            #creating 1D array with elements as zero"
   ]
  },
  {
   "cell_type": "code",
   "execution_count": 7,
   "id": "bfc00495",
   "metadata": {},
   "outputs": [
    {
     "data": {
      "text/plain": [
       "array([[0., 0.],\n",
       "       [0., 0.],\n",
       "       [0., 0.]])"
      ]
     },
     "execution_count": 7,
     "metadata": {},
     "output_type": "execute_result"
    }
   ],
   "source": [
    "arr4=np.zeros((3,2))\n",
    "arr4                            #creating 2D array with elements as zero con tains extra bracket"
   ]
  },
  {
   "cell_type": "code",
   "execution_count": 8,
   "id": "b58e99d1",
   "metadata": {
    "scrolled": true
   },
   "outputs": [
    {
     "data": {
      "text/plain": [
       "array([[[0., 0.],\n",
       "        [0., 0.],\n",
       "        [0., 0.]],\n",
       "\n",
       "       [[0., 0.],\n",
       "        [0., 0.],\n",
       "        [0., 0.]]])"
      ]
     },
     "execution_count": 8,
     "metadata": {},
     "output_type": "execute_result"
    }
   ],
   "source": [
    "arr5=np.zeros((2,3,2))\n",
    "arr5                            #creating a 3D array with all elements as zero "
   ]
  },
  {
   "cell_type": "markdown",
   "id": "d24797dc",
   "metadata": {},
   "source": [
    "# Numpy.ones()                 Array with elements as one"
   ]
  },
  {
   "cell_type": "code",
   "execution_count": 10,
   "id": "282e67fd",
   "metadata": {},
   "outputs": [
    {
     "data": {
      "text/plain": [
       "array([1., 1., 1., 1., 1.])"
      ]
     },
     "execution_count": 10,
     "metadata": {},
     "output_type": "execute_result"
    }
   ],
   "source": [
    "arr6=np.ones(5)                #creating 1D array with all calues as one\n",
    "arr6 "
   ]
  },
  {
   "cell_type": "code",
   "execution_count": 12,
   "id": "9fe339e1",
   "metadata": {},
   "outputs": [
    {
     "data": {
      "text/plain": [
       "array([[1., 1., 1.],\n",
       "       [1., 1., 1.]])"
      ]
     },
     "execution_count": 12,
     "metadata": {},
     "output_type": "execute_result"
    }
   ],
   "source": [
    "arr7=np.ones((2,3))                #creating 2D array with all calues as one\n",
    "arr7"
   ]
  },
  {
   "cell_type": "code",
   "execution_count": 14,
   "id": "0e09e05e",
   "metadata": {},
   "outputs": [
    {
     "data": {
      "text/plain": [
       "array([[[1., 1., 1.],\n",
       "        [1., 1., 1.],\n",
       "        [1., 1., 1.]],\n",
       "\n",
       "       [[1., 1., 1.],\n",
       "        [1., 1., 1.],\n",
       "        [1., 1., 1.]]])"
      ]
     },
     "execution_count": 14,
     "metadata": {},
     "output_type": "execute_result"
    }
   ],
   "source": [
    "arr8=np.ones((2,3,3))                #creating 3D array with all calues as one\n",
    "arr8"
   ]
  },
  {
   "cell_type": "markdown",
   "id": "d56c50fc",
   "metadata": {},
   "source": [
    "# Numpy.arange()                     array with a specific range"
   ]
  },
  {
   "cell_type": "code",
   "execution_count": 15,
   "id": "2f19f3d8",
   "metadata": {},
   "outputs": [
    {
     "data": {
      "text/plain": [
       "array([0, 1, 2, 3, 4, 5, 6, 7, 8, 9])"
      ]
     },
     "execution_count": 15,
     "metadata": {},
     "output_type": "execute_result"
    }
   ],
   "source": [
    "arr9=np.arange(10)              #creating 1D array with specific range\n",
    "arr9"
   ]
  },
  {
   "cell_type": "code",
   "execution_count": 16,
   "id": "a3b00fe1",
   "metadata": {},
   "outputs": [
    {
     "data": {
      "text/plain": [
       "array([10, 11, 12, 13, 14, 15, 16, 17, 18, 19])"
      ]
     },
     "execution_count": 16,
     "metadata": {},
     "output_type": "execute_result"
    }
   ],
   "source": [
    "arr10=np.arange(10,20)              #creating 1D array with specific range\n",
    "arr10"
   ]
  },
  {
   "cell_type": "code",
   "execution_count": 19,
   "id": "20a44e64",
   "metadata": {},
   "outputs": [
    {
     "data": {
      "text/plain": [
       "array([10, 15, 20, 25, 30, 35, 40, 45])"
      ]
     },
     "execution_count": 19,
     "metadata": {},
     "output_type": "execute_result"
    }
   ],
   "source": [
    "arr11=np.arange(10,50,5)         #array in a specific range incrementing with 5\n",
    "arr11"
   ]
  },
  {
   "cell_type": "code",
   "execution_count": 25,
   "id": "7ea886a1",
   "metadata": {},
   "outputs": [
    {
     "data": {
      "text/plain": [
       "array([10., 15., 20., 25., 30., 35., 40., 45.])"
      ]
     },
     "execution_count": 25,
     "metadata": {},
     "output_type": "execute_result"
    }
   ],
   "source": [
    "arr12=np.arange(10,50,5.0)         #array in a specific range incrementing with 5 and datatype is float\n",
    "arr12"
   ]
  },
  {
   "cell_type": "code",
   "execution_count": 27,
   "id": "d4ee8756",
   "metadata": {},
   "outputs": [
    {
     "data": {
      "text/plain": [
       "array([ 1.        ,  1.18367347,  1.36734694,  1.55102041,  1.73469388,\n",
       "        1.91836735,  2.10204082,  2.28571429,  2.46938776,  2.65306122,\n",
       "        2.83673469,  3.02040816,  3.20408163,  3.3877551 ,  3.57142857,\n",
       "        3.75510204,  3.93877551,  4.12244898,  4.30612245,  4.48979592,\n",
       "        4.67346939,  4.85714286,  5.04081633,  5.2244898 ,  5.40816327,\n",
       "        5.59183673,  5.7755102 ,  5.95918367,  6.14285714,  6.32653061,\n",
       "        6.51020408,  6.69387755,  6.87755102,  7.06122449,  7.24489796,\n",
       "        7.42857143,  7.6122449 ,  7.79591837,  7.97959184,  8.16326531,\n",
       "        8.34693878,  8.53061224,  8.71428571,  8.89795918,  9.08163265,\n",
       "        9.26530612,  9.44897959,  9.63265306,  9.81632653, 10.        ])"
      ]
     },
     "execution_count": 27,
     "metadata": {},
     "output_type": "execute_result"
    }
   ],
   "source": [
    "arr13=np.linspace(1,10)                #same difference bw adjacent values\n",
    "arr13"
   ]
  },
  {
   "cell_type": "code",
   "execution_count": 29,
   "id": "03b8bf94",
   "metadata": {},
   "outputs": [
    {
     "data": {
      "text/plain": [
       "array([ 1.  ,  3.25,  5.5 ,  7.75, 10.  ])"
      ]
     },
     "execution_count": 29,
     "metadata": {},
     "output_type": "execute_result"
    }
   ],
   "source": [
    "arr14=np.linspace(1,10,5)                #same difference bw adjacent values and only 5 values are needed\n",
    "arr14"
   ]
  },
  {
   "cell_type": "code",
   "execution_count": 31,
   "id": "454252fe",
   "metadata": {},
   "outputs": [
    {
     "data": {
      "text/plain": [
       "array([[1., 0., 0., 0.],\n",
       "       [0., 1., 0., 0.],\n",
       "       [0., 0., 1., 0.],\n",
       "       [0., 0., 0., 1.]])"
      ]
     },
     "execution_count": 31,
     "metadata": {},
     "output_type": "execute_result"
    }
   ],
   "source": [
    "arr15=np.eye(4)     #creating 2D array with 4 rows and columns with diagonal elements as 1\n",
    "arr15"
   ]
  },
  {
   "cell_type": "code",
   "execution_count": 32,
   "id": "821c9f31",
   "metadata": {},
   "outputs": [
    {
     "data": {
      "text/plain": [
       "array([[1., 0., 0., 0.],\n",
       "       [0., 1., 0., 0.],\n",
       "       [0., 0., 1., 0.]])"
      ]
     },
     "execution_count": 32,
     "metadata": {},
     "output_type": "execute_result"
    }
   ],
   "source": [
    "arr16=np.eye(3,4)     #creating 2D array with different rows and columns with diagonal elements as 1\n",
    "arr16"
   ]
  },
  {
   "cell_type": "code",
   "execution_count": 34,
   "id": "ef1626e4",
   "metadata": {},
   "outputs": [
    {
     "data": {
      "text/plain": [
       "array([[0., 1., 0., 0.],\n",
       "       [0., 0., 1., 0.],\n",
       "       [0., 0., 0., 1.]])"
      ]
     },
     "execution_count": 34,
     "metadata": {},
     "output_type": "execute_result"
    }
   ],
   "source": [
    "arr17=np.eye(3,4,k=1)     #K is the index of starting 1, positive 1=row -1=column\n",
    "arr17"
   ]
  },
  {
   "cell_type": "code",
   "execution_count": 37,
   "id": "f9b36b6d",
   "metadata": {},
   "outputs": [
    {
     "data": {
      "text/plain": [
       "array([10, 10, 10, 10, 10])"
      ]
     },
     "execution_count": 37,
     "metadata": {},
     "output_type": "execute_result"
    }
   ],
   "source": [
    "np.full(5,10)      #array with 5 elements and all elements are 10"
   ]
  },
  {
   "cell_type": "code",
   "execution_count": 39,
   "id": "a78cf6c8",
   "metadata": {},
   "outputs": [
    {
     "data": {
      "text/plain": [
       "array([[5, 5, 5, 5],\n",
       "       [5, 5, 5, 5],\n",
       "       [5, 5, 5, 5]])"
      ]
     },
     "execution_count": 39,
     "metadata": {},
     "output_type": "execute_result"
    }
   ],
   "source": [
    "np.full((3,4),5)   #2D array with all aelements are 5"
   ]
  },
  {
   "cell_type": "code",
   "execution_count": 41,
   "id": "4c6cf1ea",
   "metadata": {},
   "outputs": [
    {
     "data": {
      "text/plain": [
       "array([[[5, 5, 5, 5],\n",
       "        [5, 5, 5, 5],\n",
       "        [5, 5, 5, 5]],\n",
       "\n",
       "       [[5, 5, 5, 5],\n",
       "        [5, 5, 5, 5],\n",
       "        [5, 5, 5, 5]],\n",
       "\n",
       "       [[5, 5, 5, 5],\n",
       "        [5, 5, 5, 5],\n",
       "        [5, 5, 5, 5]]])"
      ]
     },
     "execution_count": 41,
     "metadata": {},
     "output_type": "execute_result"
    }
   ],
   "source": [
    "np.full((3,3,4),5)         #3D array with all aelements are 5"
   ]
  },
  {
   "cell_type": "code",
   "execution_count": 43,
   "id": "0bac4ad4",
   "metadata": {},
   "outputs": [
    {
     "data": {
      "text/plain": [
       "array([6, 4, 6, 0, 8])"
      ]
     },
     "execution_count": 43,
     "metadata": {},
     "output_type": "execute_result"
    }
   ],
   "source": [
    "np.random.randint(0,10,5)   #1D array with random numbers from 1-10 and size is 5"
   ]
  },
  {
   "cell_type": "code",
   "execution_count": 45,
   "id": "16cfcd0d",
   "metadata": {},
   "outputs": [
    {
     "data": {
      "text/plain": [
       "array([[9, 7, 6],\n",
       "       [5, 1, 0]])"
      ]
     },
     "execution_count": 45,
     "metadata": {},
     "output_type": "execute_result"
    }
   ],
   "source": [
    "np.random.randint(0,10,(2,3))   #2D array with random numbers from 1-10 and size row=2 column=3 =6 "
   ]
  },
  {
   "cell_type": "code",
   "execution_count": 46,
   "id": "8213d1e0",
   "metadata": {},
   "outputs": [
    {
     "data": {
      "text/plain": [
       "array([[[6, 0, 7, 6],\n",
       "        [7, 7, 6, 9],\n",
       "        [7, 2, 4, 4]],\n",
       "\n",
       "       [[6, 9, 4, 5],\n",
       "        [1, 1, 5, 6],\n",
       "        [1, 4, 5, 8]]])"
      ]
     },
     "execution_count": 46,
     "metadata": {},
     "output_type": "execute_result"
    }
   ],
   "source": [
    "np.random.randint(0,10,(2,3,4))  #3D array"
   ]
  },
  {
   "cell_type": "code",
   "execution_count": 48,
   "id": "03b913b8",
   "metadata": {},
   "outputs": [
    {
     "data": {
      "text/plain": [
       "array([[[[7, 9, 4, 0],\n",
       "         [6, 7, 0, 0],\n",
       "         [7, 8, 9, 6]],\n",
       "\n",
       "        [[9, 3, 7, 8],\n",
       "         [7, 2, 9, 1],\n",
       "         [0, 1, 6, 7]],\n",
       "\n",
       "        [[2, 2, 5, 9],\n",
       "         [9, 8, 7, 7],\n",
       "         [3, 5, 6, 5]]],\n",
       "\n",
       "\n",
       "       [[[4, 4, 1, 6],\n",
       "         [9, 9, 5, 6],\n",
       "         [8, 0, 3, 5]],\n",
       "\n",
       "        [[5, 2, 4, 1],\n",
       "         [0, 4, 9, 3],\n",
       "         [5, 4, 9, 1]],\n",
       "\n",
       "        [[0, 2, 1, 2],\n",
       "         [5, 0, 8, 5],\n",
       "         [8, 3, 0, 4]]]])"
      ]
     },
     "execution_count": 48,
     "metadata": {},
     "output_type": "execute_result"
    }
   ],
   "source": [
    "np.random.randint(0,10,(2,3,3,4))  #4D array"
   ]
  },
  {
   "cell_type": "code",
   "execution_count": 49,
   "id": "45f13c8a",
   "metadata": {},
   "outputs": [
    {
     "data": {
      "text/plain": [
       "array([0.87794759, 0.56303306, 0.11074439, 0.90892658, 0.33252659])"
      ]
     },
     "execution_count": 49,
     "metadata": {},
     "output_type": "execute_result"
    }
   ],
   "source": [
    "np.random.random(5)     # 1D array with random float values"
   ]
  },
  {
   "cell_type": "code",
   "execution_count": 57,
   "id": "87508414",
   "metadata": {},
   "outputs": [
    {
     "data": {
      "text/plain": [
       "array([[0.86046084, 0.1828326 , 0.81569324, 0.61986393],\n",
       "       [0.96257287, 0.41921203, 0.036986  , 0.77784883],\n",
       "       [0.36888244, 0.12628633, 0.17774756, 0.20324036]])"
      ]
     },
     "execution_count": 57,
     "metadata": {},
     "output_type": "execute_result"
    }
   ],
   "source": [
    "np.random.random((3,4))  # 2D array with random float values"
   ]
  },
  {
   "cell_type": "code",
   "execution_count": null,
   "id": "f1f6859e",
   "metadata": {},
   "outputs": [],
   "source": []
  }
 ],
 "metadata": {
  "kernelspec": {
   "display_name": "Python 3 (ipykernel)",
   "language": "python",
   "name": "python3"
  },
  "language_info": {
   "codemirror_mode": {
    "name": "ipython",
    "version": 3
   },
   "file_extension": ".py",
   "mimetype": "text/x-python",
   "name": "python",
   "nbconvert_exporter": "python",
   "pygments_lexer": "ipython3",
   "version": "3.11.5"
  }
 },
 "nbformat": 4,
 "nbformat_minor": 5
}
