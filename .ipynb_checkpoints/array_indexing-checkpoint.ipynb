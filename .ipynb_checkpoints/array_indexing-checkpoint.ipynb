{
 "cells": [
  {
   "cell_type": "code",
   "execution_count": 1,
   "id": "04f7acfa",
   "metadata": {},
   "outputs": [],
   "source": [
    "import numpy as np"
   ]
  },
  {
   "cell_type": "markdown",
   "id": "26ce63a9",
   "metadata": {},
   "source": [
    "# 1D array indexing"
   ]
  },
  {
   "cell_type": "code",
   "execution_count": 4,
   "id": "e49cf856",
   "metadata": {},
   "outputs": [
    {
     "data": {
      "text/plain": [
       "array([ 10,  20,  30,  40,  50,  60,  70,  80,  90, 100])"
      ]
     },
     "execution_count": 4,
     "metadata": {},
     "output_type": "execute_result"
    }
   ],
   "source": [
    "arr1=np.arange(10,101,10)\n",
    "arr1"
   ]
  },
  {
   "cell_type": "code",
   "execution_count": 8,
   "id": "c2d4561a",
   "metadata": {},
   "outputs": [
    {
     "data": {
      "text/plain": [
       "40"
      ]
     },
     "execution_count": 8,
     "metadata": {},
     "output_type": "execute_result"
    }
   ],
   "source": [
    "arr1[3]          #positive indexing"
   ]
  },
  {
   "cell_type": "code",
   "execution_count": 10,
   "id": "05ec85fa",
   "metadata": {},
   "outputs": [
    {
     "data": {
      "text/plain": [
       "80"
      ]
     },
     "execution_count": 10,
     "metadata": {},
     "output_type": "execute_result"
    }
   ],
   "source": [
    "arr1[-3]           #-ve indexing"
   ]
  },
  {
   "cell_type": "code",
   "execution_count": 11,
   "id": "a487c8d6",
   "metadata": {},
   "outputs": [
    {
     "data": {
      "text/plain": [
       "array([ 40,  50,  60,  70,  80,  90, 100])"
      ]
     },
     "execution_count": 11,
     "metadata": {},
     "output_type": "execute_result"
    }
   ],
   "source": [
    "arr1[3:]"
   ]
  },
  {
   "cell_type": "markdown",
   "id": "d0141e9b",
   "metadata": {},
   "source": [
    "# 2D array indexing"
   ]
  },
  {
   "cell_type": "code",
   "execution_count": 13,
   "id": "34c8abf7",
   "metadata": {},
   "outputs": [
    {
     "data": {
      "text/plain": [
       "array([[ 1,  2,  3],\n",
       "       [ 4,  5,  6],\n",
       "       [ 7,  8,  9],\n",
       "       [10, 11, 12]])"
      ]
     },
     "execution_count": 13,
     "metadata": {},
     "output_type": "execute_result"
    }
   ],
   "source": [
    "arr2=np.array([\n",
    "    [1,2,3],[4,5,6],[7,8,9],[10,11,12]\n",
    "])\n",
    "arr2"
   ]
  },
  {
   "cell_type": "code",
   "execution_count": 16,
   "id": "0f5a209d",
   "metadata": {},
   "outputs": [
    {
     "data": {
      "text/plain": [
       "8"
      ]
     },
     "execution_count": 16,
     "metadata": {},
     "output_type": "execute_result"
    }
   ],
   "source": [
    "arr2[2,1]"
   ]
  },
  {
   "cell_type": "markdown",
   "id": "c8b860cd",
   "metadata": {},
   "source": [
    "# 3D array indexing"
   ]
  },
  {
   "cell_type": "code",
   "execution_count": 17,
   "id": "5fbda870",
   "metadata": {},
   "outputs": [
    {
     "data": {
      "text/plain": [
       "array([[[ 1,  2],\n",
       "        [ 3,  4]],\n",
       "\n",
       "       [[ 5,  6],\n",
       "        [ 7,  8]],\n",
       "\n",
       "       [[ 9, 10],\n",
       "        [11, 12]]])"
      ]
     },
     "execution_count": 17,
     "metadata": {},
     "output_type": "execute_result"
    }
   ],
   "source": [
    "arr3=np.array([\n",
    "    [[1,2],[3,4]],\n",
    "    [[5,6],[7,8]],\n",
    "    [[9,10],[11,12]],\n",
    "])\n",
    "arr3"
   ]
  },
  {
   "cell_type": "code",
   "execution_count": 21,
   "id": "57c4f745",
   "metadata": {},
   "outputs": [
    {
     "data": {
      "text/plain": [
       "11"
      ]
     },
     "execution_count": 21,
     "metadata": {},
     "output_type": "execute_result"
    }
   ],
   "source": [
    "arr3[2,1,0]             [layer,row,column]"
   ]
  },
  {
   "cell_type": "code",
   "execution_count": 23,
   "id": "7d5553a0",
   "metadata": {},
   "outputs": [
    {
     "data": {
      "text/plain": [
       "3"
      ]
     },
     "execution_count": 23,
     "metadata": {},
     "output_type": "execute_result"
    }
   ],
   "source": [
    "arr3[-3,-1,-2]"
   ]
  },
  {
   "cell_type": "code",
   "execution_count": null,
   "id": "31fbc1c0",
   "metadata": {},
   "outputs": [],
   "source": []
  }
 ],
 "metadata": {
  "kernelspec": {
   "display_name": "Python 3 (ipykernel)",
   "language": "python",
   "name": "python3"
  },
  "language_info": {
   "codemirror_mode": {
    "name": "ipython",
    "version": 3
   },
   "file_extension": ".py",
   "mimetype": "text/x-python",
   "name": "python",
   "nbconvert_exporter": "python",
   "pygments_lexer": "ipython3",
   "version": "3.11.5"
  }
 },
 "nbformat": 4,
 "nbformat_minor": 5
}
